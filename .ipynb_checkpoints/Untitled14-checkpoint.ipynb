{
 "cells": [
  {
   "cell_type": "code",
   "execution_count": 1,
   "id": "ee555769",
   "metadata": {},
   "outputs": [
    {
     "ename": "NameError",
     "evalue": "name 'frame' is not defined",
     "output_type": "error",
     "traceback": [
      "\u001b[1;31m---------------------------------------------------------------------------\u001b[0m",
      "\u001b[1;31mNameError\u001b[0m                                 Traceback (most recent call last)",
      "Input \u001b[1;32mIn [1]\u001b[0m, in \u001b[0;36m<cell line: 9>\u001b[1;34m()\u001b[0m\n\u001b[0;32m      9\u001b[0m top_left\u001b[38;5;241m=\u001b[39m(\u001b[38;5;241m345\u001b[39m,\u001b[38;5;241m235\u001b[39m)\n\u001b[0;32m     10\u001b[0m bottom_right\u001b[38;5;241m=\u001b[39m(\u001b[38;5;241m445\u001b[39m,\u001b[38;5;241m335\u001b[39m)\n\u001b[1;32m---> 11\u001b[0m cv2\u001b[38;5;241m.\u001b[39mrectangle(\u001b[43mframe\u001b[49m,top_left, bottom_right, \u001b[38;5;241m255\u001b[39m, \u001b[38;5;241m2\u001b[39m)\n\u001b[0;32m     12\u001b[0m areacov \u001b[38;5;241m=\u001b[39m img[\u001b[38;5;241m235\u001b[39m:\u001b[38;5;241m335\u001b[39m, \u001b[38;5;241m345\u001b[39m:\u001b[38;5;241m445\u001b[39m]\n\u001b[0;32m     13\u001b[0m imageGray \u001b[38;5;241m=\u001b[39m cv2\u001b[38;5;241m.\u001b[39mcvtColor(areacov, cv2\u001b[38;5;241m.\u001b[39mCOLOR_RGB2GRAY)\n",
      "\u001b[1;31mNameError\u001b[0m: name 'frame' is not defined"
     ]
    }
   ],
   "source": [
    "import cv2\n",
    "import numpy as np\n",
    "\n",
    "\n",
    "img=cv2.imread(r\"C:\\Users\\asannidhi\\Desktop\\imagelight_2.png\")\n",
    "template = img[250:315,360:425]\n",
    "while True:\n",
    "    #ret,frame=cap.read()\n",
    "    top_left=(345,235)\n",
    "    bottom_right=(445,335)\n",
    "    cv2.rectangle(img,top_left, bottom_right, 255, 2)\n",
    "    areacov = img[235:335, 345:445]\n",
    "    imageGray = cv2.cvtColor(areacov, cv2.COLOR_RGB2GRAY)\n",
    "    ret1,thresh1 = cv2.threshold(imageGray,100,255,cv2.THRESH_BINARY)\n",
    "    templateGray = cv2.cvtColor(template, cv2.COLOR_RGB2GRAY)\n",
    "    ret2,thresh2 = cv2.threshold(templateGray,100,255,cv2.THRESH_BINARY)\n",
    "    result = cv2.matchTemplate(thresh1, thresh2, cv2.TM_CCORR_NORMED)\n",
    "    (minVal, maxVal, minLoc, maxLoc) = cv2.minMaxLoc(result)\n",
    "    format_maxVal = \"{:.2f}\".format(maxVal)\n",
    "    #print(format_maxVal)\n",
    "    probval = 0.865\n",
    "    if maxVal>=probval:\n",
    "        cv2.putText(frame, \"PRESENT\", (300,500), cv2.FONT_HERSHEY_SIMPLEX, 1, (0,255,0), 1)\n",
    "\n",
    "\n",
    "\n",
    "    circles = cv2.HoughCircles(thresh1,cv2.HOUGH_GRADIENT,1,20,\n",
    "                            param1=50,param2=30,minRadius=0,maxRadius=0)\n",
    "    circles = np.uint16(np.around(circles))\n",
    "    for i in circles[0,:]:\n",
    "    # draw the outer circle\n",
    "        cv.circle(cimg,(i[0],i[1]),i[2],(0,255,0),2)\n",
    "    # draw the center of the circle\n",
    "        cv.circle(cimg,(i[0],i[1]),2,(0,0,255),3)\n",
    "\n",
    "\n",
    "    k = cv2.waitKey(1)\n",
    "    if k%256 == 27:\n",
    "        print('Escape hit. Closing...')\n",
    "        break\n",
    "    elif k%256 == 32:\n",
    "        img_name = \"imagelight_{}.png\".format(img_counter)\n",
    "        cv2.imwrite(img_name, frame)\n",
    "        print(\"{} written\".format(img_name))\n",
    "        img_counter += 1       \n",
    "    cv2.imshow(\"camera test\",frame)\n",
    "cap.release()\n",
    "cv2.destroyAllWindows()    "
   ]
  },
  {
   "cell_type": "code",
   "execution_count": null,
   "id": "00b2dc17",
   "metadata": {},
   "outputs": [],
   "source": []
  }
 ],
 "metadata": {
  "kernelspec": {
   "display_name": "Python 3 (ipykernel)",
   "language": "python",
   "name": "python3"
  },
  "language_info": {
   "codemirror_mode": {
    "name": "ipython",
    "version": 3
   },
   "file_extension": ".py",
   "mimetype": "text/x-python",
   "name": "python",
   "nbconvert_exporter": "python",
   "pygments_lexer": "ipython3",
   "version": "3.9.12"
  }
 },
 "nbformat": 4,
 "nbformat_minor": 5
}
