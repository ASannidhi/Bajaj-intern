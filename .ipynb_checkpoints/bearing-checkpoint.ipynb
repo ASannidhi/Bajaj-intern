{
 "cells": [
  {
   "cell_type": "code",
   "execution_count": 1,
   "id": "32e79c5b",
   "metadata": {},
   "outputs": [
    {
     "ename": "AttributeError",
     "evalue": "module 'cv2' has no attribute 'CAP_PROP_FRAMaE_WIDTH'",
     "output_type": "error",
     "traceback": [
      "\u001b[1;31m---------------------------------------------------------------------------\u001b[0m",
      "\u001b[1;31mAttributeError\u001b[0m                            Traceback (most recent call last)",
      "Input \u001b[1;32mIn [1]\u001b[0m, in \u001b[0;36m<cell line: 5>\u001b[1;34m()\u001b[0m\n\u001b[0;32m      2\u001b[0m \u001b[38;5;28;01mfrom\u001b[39;00m \u001b[38;5;21;01mmatplotlib\u001b[39;00m \u001b[38;5;28;01mimport\u001b[39;00m pyplot \u001b[38;5;28;01mas\u001b[39;00m plt\n\u001b[0;32m      4\u001b[0m cap\u001b[38;5;241m=\u001b[39mcv2\u001b[38;5;241m.\u001b[39mVideoCapture(\u001b[38;5;241m0\u001b[39m,cv2\u001b[38;5;241m.\u001b[39mCAP_DSHOW)\n\u001b[1;32m----> 5\u001b[0m cap\u001b[38;5;241m.\u001b[39mset(\u001b[43mcv2\u001b[49m\u001b[38;5;241;43m.\u001b[39;49m\u001b[43mCAP_PROP_FRAMaE_WIDTH\u001b[49m,\u001b[38;5;241m780\u001b[39m)\n\u001b[0;32m      6\u001b[0m cap\u001b[38;5;241m.\u001b[39mset(cv2\u001b[38;5;241m.\u001b[39mCAP_PROP_FRAME_HEIGHT,\u001b[38;5;241m1270\u001b[39m)\n\u001b[0;32m      7\u001b[0m cv2\u001b[38;5;241m.\u001b[39mnamedWindow(\u001b[38;5;124m\"\u001b[39m\u001b[38;5;124mcamera test\u001b[39m\u001b[38;5;124m\"\u001b[39m)\n",
      "\u001b[1;31mAttributeError\u001b[0m: module 'cv2' has no attribute 'CAP_PROP_FRAMaE_WIDTH'"
     ]
    }
   ],
   "source": [
    "import cv2\n",
    "from matplotlib import pyplot as plt\n",
    "\n",
    "cap=cv2.VideoCapture(0,cv2.CAP_DSHOW)\n",
    "cap.set(cv2.CAP_PROP_FRAME_WIDTH,780)\n",
    "cap.set(cv2.CAP_PROP_FRAME_HEIGHT,1270)\n",
    "cv2.namedWindow(\"camera test\")\n",
    "img_counter=0\n",
    "while True:\n",
    "    ret,frame=cap.read()\n",
    "    k = cv2.waitKey(1)\n",
    "    if k%256 == 27:\n",
    "        print('Escape hit. Closing...')\n",
    "        break\n",
    "    elif k%256 == 32:\n",
    "        img_name = \"image_{}.png\".format(img_counter)\n",
    "        cv2.imwrite(img_name, frame)\n",
    "        print(\"{} written\".format(img_name))\n",
    "        img_counter += 1       \n",
    "    #cv2.rectangle(frame,(290,735),(490,535),(255,0,0),2)\n",
    "    cv2.imshow(\"camera test\",frame)\n",
    "    img=cv2.imread('image_0.png')\n",
    "    cv2.imshow(img)\n",
    "cap.release()\n",
    "cv2.destroyAllWindows()"
   ]
  },
  {
   "cell_type": "code",
   "execution_count": null,
   "id": "62693ad8",
   "metadata": {},
   "outputs": [],
   "source": []
  }
 ],
 "metadata": {
  "kernelspec": {
   "display_name": "Python 3 (ipykernel)",
   "language": "python",
   "name": "python3"
  },
  "language_info": {
   "codemirror_mode": {
    "name": "ipython",
    "version": 3
   },
   "file_extension": ".py",
   "mimetype": "text/x-python",
   "name": "python",
   "nbconvert_exporter": "python",
   "pygments_lexer": "ipython3",
   "version": "3.9.12"
  }
 },
 "nbformat": 4,
 "nbformat_minor": 5
}
