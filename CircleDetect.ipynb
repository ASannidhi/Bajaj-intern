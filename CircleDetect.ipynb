{
 "cells": [
  {
   "cell_type": "code",
   "execution_count": null,
   "id": "1feb982a",
   "metadata": {},
   "outputs": [],
   "source": [
    "import cv2 as cv\n",
    "import numpy as np\n",
    "from matplotlib import pyplot as plt\n",
    "\n",
    "videocapture = cv.VideoCapture(0)\n",
    "while(True):\n",
    "    ret, frame = videocapture.read()\n",
    "    if not ret: break\n",
    "   # cv.imshow(\"test\",frame)\n",
    "    img=frame.copy()\n",
    "    gray = cv.cvtColor(frame, cv.COLOR_BGR2GRAY)\n",
    "    blur = cv.GaussianBlur(gray, (9,9),0)\n",
    "    minDist = 1\n",
    "    param1 = 30 #500\n",
    "    param2 = 50 #200 \n",
    "    minRadius = 5\n",
    "    maxRadius = 100 #10\n",
    "    \n",
    "    circles = cv.HoughCircles(blur, cv.HOUGH_GRADIENT, 1.2, minDist, param1=param1, param2=param2, minRadius=minRadius, maxRadius=maxRadius)\n",
    "    if circles is not None:\n",
    "        circles = np.uint16(np.around(circles))\n",
    "        for i in circles[0,:]:\n",
    "            cv.circle(img, (i[0], i[1]), i[2], (0, 255, 0), 2) \n",
    "      #  cv.circle(img, (i[0], i[1]), 2, (0,0,255), 2 ) -->this is for plotting centre\n",
    "    cv.imshow('img',img)\n",
    "    if cv.waitKey(1) & 0xFF == ord('q'): break\n",
    "    \n",
    "videocapture.release()\n",
    "cv.destroyAllWindows()\n"
   ]
  },
  {
   "cell_type": "code",
   "execution_count": 4,
   "id": "35b83d2b",
   "metadata": {},
   "outputs": [
    {
     "ename": "NameError",
     "evalue": "name 'q' is not defined",
     "output_type": "error",
     "traceback": [
      "\u001b[1;31m---------------------------------------------------------------------------\u001b[0m",
      "\u001b[1;31mNameError\u001b[0m                                 Traceback (most recent call last)",
      "Input \u001b[1;32mIn [4]\u001b[0m, in \u001b[0;36m<cell line: 1>\u001b[1;34m()\u001b[0m\n\u001b[1;32m----> 1\u001b[0m \u001b[43mq\u001b[49m\n",
      "\u001b[1;31mNameError\u001b[0m: name 'q' is not defined"
     ]
    }
   ],
   "source": []
  },
  {
   "cell_type": "code",
   "execution_count": null,
   "id": "ee918ecd",
   "metadata": {},
   "outputs": [],
   "source": []
  }
 ],
 "metadata": {
  "kernelspec": {
   "display_name": "Python 3 (ipykernel)",
   "language": "python",
   "name": "python3"
  },
  "language_info": {
   "codemirror_mode": {
    "name": "ipython",
    "version": 3
   },
   "file_extension": ".py",
   "mimetype": "text/x-python",
   "name": "python",
   "nbconvert_exporter": "python",
   "pygments_lexer": "ipython3",
   "version": "3.9.12"
  }
 },
 "nbformat": 4,
 "nbformat_minor": 5
}
