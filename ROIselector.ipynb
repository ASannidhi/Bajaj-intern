{
 "cells": [
  {
   "cell_type": "code",
   "execution_count": 1,
   "id": "41117b68",
   "metadata": {},
   "outputs": [
    {
     "name": "stdout",
     "output_type": "stream",
     "text": [
      "(77, 72, 82, 78)\n"
     ]
    },
    {
     "data": {
      "text/plain": [
       "True"
      ]
     },
     "execution_count": 1,
     "metadata": {},
     "output_type": "execute_result"
    }
   ],
   "source": [
    "import cv2 as cv\n",
    "import numpy as np\n",
    "from matplotlib import pyplot as plt\n",
    "img_path=\"image.png\"\n",
    "img_raw = cv.imread(img_path)\n",
    "roi=cv.selectROI(img_raw)\n",
    "print(roi)\n",
    "roi_cropped = img_raw[int(roi[1]):int(roi[1]+roi[3]),int(roi[0]):int(roi[0]+roi[2])]\n",
    "cv.imshow(\"ROI\",roi_cropped)\n",
    "cv.imwrite(\"crop.png\",roi_cropped)"
   ]
  },
  {
   "cell_type": "code",
   "execution_count": 1,
   "id": "b1325197",
   "metadata": {},
   "outputs": [
    {
     "name": "stdout",
     "output_type": "stream",
     "text": [
      "(79, 68, 80, 79)\n"
     ]
    },
    {
     "data": {
      "text/plain": [
       "True"
      ]
     },
     "execution_count": 1,
     "metadata": {},
     "output_type": "execute_result"
    }
   ],
   "source": [
    "import cv2 as cv\n",
    "import numpy as np\n",
    "from matplotlib import pyplot as plt\n",
    "img_path=\"image.png\"\n",
    "img_raw = cv.imread(img_path)\n",
    "roi=cv.selectROI(img_raw)\n",
    "print(roi)\n",
    "roi_cropped = img_raw[int(roi[1]):int(roi[1]+roi[3]),int(roi[0]):int(roi[0]+roi[2])]\n",
    "cv.imshow(\"ROI\",roi_cropped)\n",
    "cv.imwrite(\"crop.png\",roi_cropped)"
   ]
  },
  {
   "cell_type": "code",
   "execution_count": null,
   "id": "6a5fe6d6",
   "metadata": {},
   "outputs": [],
   "source": []
  }
 ],
 "metadata": {
  "kernelspec": {
   "display_name": "Python 3 (ipykernel)",
   "language": "python",
   "name": "python3"
  },
  "language_info": {
   "codemirror_mode": {
    "name": "ipython",
    "version": 3
   },
   "file_extension": ".py",
   "mimetype": "text/x-python",
   "name": "python",
   "nbconvert_exporter": "python",
   "pygments_lexer": "ipython3",
   "version": "3.9.12"
  }
 },
 "nbformat": 4,
 "nbformat_minor": 5
}
