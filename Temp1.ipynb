{
 "cells": [
  {
   "cell_type": "code",
   "execution_count": null,
   "id": "58a28f83",
   "metadata": {},
   "outputs": [],
   "source": [
    "import cv2 as cv\n",
    "import numpy as np\n",
    "from matplotlib import pyplot as plt\n",
    "\n",
    "videocapture = cv.VideoCapture(0)\n",
    "while(True):\n",
    "    ret, frame = videocapture.read()\n",
    "    if not ret: break\n",
    "    #cv.imshow(\"test\",frame)\n",
    "    img=frame.copy()\n",
    "    \n",
    "    ROI= np.array([[(260,285),(260,195),(365,195),(365,285)]], dtype= np.int32)\n",
    "    top_left = (260,195)\n",
    "    bottom_right = (365,285)\n",
    "    cv.rectangle(img,top_left, bottom_right, 255, 2)\n",
    "    crop=img[195:285, 260:365]\n",
    "    temp_path=\"savedImage1.png\"\n",
    "    template = cv.imread(temp_path)\n",
    "    methods = ['cv.TM_CCOEFF_NORMED']\n",
    "    for meth in methods:\n",
    "        #img1 = img.copy()\n",
    "        method = eval(meth)\n",
    "    # Apply template Matching\n",
    "        res = cv.matchTemplate(img,template,method)\n",
    "        min_val, max_val, min_loc, max_loc = cv.minMaxLoc(res)\n",
    "        print(max_val)\n",
    "        plt.subplot(111),plt.imshow(img,cmap = 'gray')    \n",
    "    \n",
    "    if cv.waitKey(1) & 0xFF == ord('q'): break\n",
    "\n",
    "videocapture.release()\n",
    "cv.destroyAllWindows()"
   ]
  }
 ],
 "metadata": {
  "kernelspec": {
   "display_name": "Python 3 (ipykernel)",
   "language": "python",
   "name": "python3"
  },
  "language_info": {
   "codemirror_mode": {
    "name": "ipython",
    "version": 3
   },
   "file_extension": ".py",
   "mimetype": "text/x-python",
   "name": "python",
   "nbconvert_exporter": "python",
   "pygments_lexer": "ipython3",
   "version": "3.9.12"
  }
 },
 "nbformat": 4,
 "nbformat_minor": 5
}
