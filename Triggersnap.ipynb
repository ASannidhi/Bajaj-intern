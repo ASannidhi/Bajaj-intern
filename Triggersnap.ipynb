{
 "cells": [
  {
   "cell_type": "code",
   "execution_count": 1,
   "id": "6f445eee",
   "metadata": {},
   "outputs": [
    {
     "name": "stdout",
     "output_type": "stream",
     "text": [
      "opencv_frame_0.png written!\n",
      "opencv_frame_1.png written!\n",
      "Escape hit, closing...\n"
     ]
    }
   ],
   "source": [
    "import cv2 as cv\n",
    "import numpy as np\n",
    "from matplotlib import pyplot as plt\n",
    "\n",
    "videocapture = cv.VideoCapture(0)\n",
    "cv.namedWindow(\"test\")\n",
    "img_counter = 0\n",
    "while(True):\n",
    "    ret, frame = videocapture.read()\n",
    "    if not ret: break\n",
    "    cv.imshow(\"test\",frame)\n",
    "    img=frame.copy()\n",
    "    k = cv.waitKey(1)\n",
    "    if k%256 == 27:\n",
    "        # ESC pressed\n",
    "        print(\"Escape hit, closing...\")\n",
    "        break\n",
    "    elif k%256 == 32:\n",
    "        # SPACE pressed\n",
    "        img_name = \"opencv_frame_{}.png\".format(img_counter)\n",
    "        cv.imwrite(img_name, frame)\n",
    "        print(\"{} written!\".format(img_name))\n",
    "        img_counter += 1\n",
    "        \n",
    "videocapture.release()\n",
    "cv.destroyAllWindows()        "
   ]
  },
  {
   "cell_type": "code",
   "execution_count": 2,
   "id": "003a49ac",
   "metadata": {},
   "outputs": [
    {
     "ename": "error",
     "evalue": "OpenCV(4.5.5) D:\\a\\opencv-python\\opencv-python\\opencv\\modules\\imgproc\\src\\color.cpp:182: error: (-215:Assertion failed) !_src.empty() in function 'cv::cvtColor'\n",
     "output_type": "error",
     "traceback": [
      "\u001b[1;31m---------------------------------------------------------------------------\u001b[0m",
      "\u001b[1;31merror\u001b[0m                                     Traceback (most recent call last)",
      "Input \u001b[1;32mIn [2]\u001b[0m, in \u001b[0;36m<cell line: 3>\u001b[1;34m()\u001b[0m\n\u001b[0;32m      1\u001b[0m img_path \u001b[38;5;241m=\u001b[39m \u001b[38;5;124m\"\u001b[39m\u001b[38;5;124mopencv_frame_\u001b[39m\u001b[38;5;132;01m{}\u001b[39;00m\u001b[38;5;124m.png\u001b[39m\u001b[38;5;124m\"\u001b[39m\u001b[38;5;241m.\u001b[39mformat(img_counter)\n\u001b[0;32m      2\u001b[0m img_raw \u001b[38;5;241m=\u001b[39m cv\u001b[38;5;241m.\u001b[39mimread(img_path)\n\u001b[1;32m----> 3\u001b[0m roi\u001b[38;5;241m=\u001b[39m\u001b[43mcv\u001b[49m\u001b[38;5;241;43m.\u001b[39;49m\u001b[43mselectROI\u001b[49m\u001b[43m(\u001b[49m\u001b[43mimg_raw\u001b[49m\u001b[43m)\u001b[49m\n\u001b[0;32m      4\u001b[0m \u001b[38;5;28mprint\u001b[39m(roi)\n\u001b[0;32m      5\u001b[0m roi_cropped \u001b[38;5;241m=\u001b[39m img_raw[\u001b[38;5;28mint\u001b[39m(roi[\u001b[38;5;241m1\u001b[39m]):\u001b[38;5;28mint\u001b[39m(roi[\u001b[38;5;241m1\u001b[39m]\u001b[38;5;241m+\u001b[39mroi[\u001b[38;5;241m3\u001b[39m]),\u001b[38;5;28mint\u001b[39m(roi[\u001b[38;5;241m0\u001b[39m]):\u001b[38;5;28mint\u001b[39m(roi[\u001b[38;5;241m0\u001b[39m]\u001b[38;5;241m+\u001b[39mroi[\u001b[38;5;241m2\u001b[39m])]\n",
      "\u001b[1;31merror\u001b[0m: OpenCV(4.5.5) D:\\a\\opencv-python\\opencv-python\\opencv\\modules\\imgproc\\src\\color.cpp:182: error: (-215:Assertion failed) !_src.empty() in function 'cv::cvtColor'\n"
     ]
    }
   ],
   "source": [
    "#img_path = \"opencv_frame_{}.png\".format(img_counter)\n",
    "img_raw = cv.imread(img_name)\n",
    "roi=cv.selectROI(img_raw)\n",
    "print(roi)\n",
    "roi_cropped = img_raw[int(roi[1]):int(roi[1]+roi[3]),int(roi[0]):int(roi[0]+roi[2])]\n",
    "cv.imshow(\"ROI\",roi_cropped)\n",
    "cv.imwrite(\"crop.png\",roi_cropped)"
   ]
  }
 ],
 "metadata": {
  "kernelspec": {
   "display_name": "Python 3 (ipykernel)",
   "language": "python",
   "name": "python3"
  },
  "language_info": {
   "codemirror_mode": {
    "name": "ipython",
    "version": 3
   },
   "file_extension": ".py",
   "mimetype": "text/x-python",
   "name": "python",
   "nbconvert_exporter": "python",
   "pygments_lexer": "ipython3",
   "version": "3.9.12"
  }
 },
 "nbformat": 4,
 "nbformat_minor": 5
}
