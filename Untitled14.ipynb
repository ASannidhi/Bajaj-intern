{
 "cells": [
  {
   "cell_type": "code",
   "execution_count": 38,
   "id": "e190d82a",
   "metadata": {},
   "outputs": [
    {
     "name": "stdout",
     "output_type": "stream",
     "text": [
      "Escape hit. Closing...\n"
     ]
    },
    {
     "ename": "NameError",
     "evalue": "name 'cap' is not defined",
     "output_type": "error",
     "traceback": [
      "\u001b[1;31m---------------------------------------------------------------------------\u001b[0m",
      "\u001b[1;31mNameError\u001b[0m                                 Traceback (most recent call last)",
      "Input \u001b[1;32mIn [38]\u001b[0m, in \u001b[0;36m<cell line: 54>\u001b[1;34m()\u001b[0m\n\u001b[0;32m     52\u001b[0m         img_counter \u001b[38;5;241m+\u001b[39m\u001b[38;5;241m=\u001b[39m \u001b[38;5;241m1\u001b[39m       \n\u001b[0;32m     53\u001b[0m     cv2\u001b[38;5;241m.\u001b[39mimshow(\u001b[38;5;124m\"\u001b[39m\u001b[38;5;124mcamera test\u001b[39m\u001b[38;5;124m\"\u001b[39m,img_zoomed_and_cropped)\n\u001b[1;32m---> 54\u001b[0m \u001b[43mcap\u001b[49m\u001b[38;5;241m.\u001b[39mrelease()\n\u001b[0;32m     55\u001b[0m cv2\u001b[38;5;241m.\u001b[39mdestroyAllWindows()\n",
      "\u001b[1;31mNameError\u001b[0m: name 'cap' is not defined"
     ]
    }
   ],
   "source": [
    "import cv2\n",
    "import numpy as np\n",
    "\n",
    "def zoom_center(fig, zoom_factor=2.2):\n",
    "\n",
    "    y_size = fig.shape[0]\n",
    "    x_size = fig.shape[1]\n",
    "    \n",
    "    # define new boundaries\n",
    "    x1 = int(0.5*x_size*(1-1/zoom_factor))\n",
    "    x2 = int(x_size-0.5*x_size*(1-1/zoom_factor))\n",
    "    y1 = int(0.5*y_size*(1-1/zoom_factor))\n",
    "    y2 = int(y_size-0.5*y_size*(1-1/zoom_factor))\n",
    "\n",
    "    # first crop image then scale\n",
    "    img_cropped = fig[y1:y2,x1:x2]\n",
    "    return cv2.resize(img_cropped, None, fx=zoom_factor, fy=zoom_factor)\n",
    "\n",
    "img=cv2.imread(r\"C:\\Users\\asannidhi\\Desktop\\imagelight_2.png\")\n",
    "\n",
    "\n",
    "while True:\n",
    "    mask = np.zeros(img.shape[:2], dtype=\"uint8\")\n",
    "    cv2.circle(mask, ( 392, 281), 24, 255, -1)\n",
    "    masked = cv2.bitwise_and(img, img, mask=mask)\n",
    "    \n",
    "    #blurimg = cv2.GaussianBlur(masked,(5,5), 1)\n",
    "    #blurimg = cv2.medianBlur(masked,5)\n",
    "    blurimg = cv2.bilateralFilter(masked,2,75,75)\n",
    "    imageGray = cv2.cvtColor(blurimg, cv2.COLOR_RGB2GRAY)\n",
    "    #img_zoomed_and_cropped = imageGray[235:335, 345:445]\n",
    "    img_zoomed_and_cropped = zoom_center(imageGray)\n",
    "    \n",
    "    \n",
    "    circles = cv2.HoughCircles(img_zoomed_and_cropped ,cv2.HOUGH_GRADIENT,1,21,param1=50,param2=30,minRadius=0,maxRadius=0)\n",
    "    circles = np.uint16(np.around(circles))\n",
    "    for i in circles[0,:]:\n",
    "    # draw the outer circle\n",
    "        cv2.circle(img_zoomed_and_cropped,(i[0],i[1]),i[2],(0,255,0),2)\n",
    "    # draw the center of the circle\n",
    "        #cv2.circle(img,(i[0],i[1]),2,(0,0,255),3)\n",
    "\n",
    "\n",
    "    k = cv2.waitKey(1)\n",
    "    if k%256 == 27:\n",
    "        print('Escape hit. Closing...')\n",
    "        break\n",
    "    elif k%256 == 32:\n",
    "        img_name = \"imagelight_{}.png\".format(img_counter)\n",
    "        cv2.imwrite(img_name, frame)\n",
    "        print(\"{} written\".format(img_name))\n",
    "        img_counter += 1       \n",
    "    cv2.imshow(\"camera test\",img_zoomed_and_cropped)\n",
    "cap.release()\n",
    "cv2.destroyAllWindows()    "
   ]
  },
  {
   "cell_type": "code",
   "execution_count": null,
   "id": "c52866a8",
   "metadata": {},
   "outputs": [],
   "source": []
  },
  {
   "cell_type": "code",
   "execution_count": null,
   "id": "9a25ae01",
   "metadata": {},
   "outputs": [],
   "source": []
  }
 ],
 "metadata": {
  "kernelspec": {
   "display_name": "Python 3 (ipykernel)",
   "language": "python",
   "name": "python3"
  },
  "language_info": {
   "codemirror_mode": {
    "name": "ipython",
    "version": 3
   },
   "file_extension": ".py",
   "mimetype": "text/x-python",
   "name": "python",
   "nbconvert_exporter": "python",
   "pygments_lexer": "ipython3",
   "version": "3.9.12"
  }
 },
 "nbformat": 4,
 "nbformat_minor": 5
}
