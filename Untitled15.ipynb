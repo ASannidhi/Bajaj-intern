{
 "cells": [
  {
   "cell_type": "code",
   "execution_count": 2,
   "id": "a9ec83eb",
   "metadata": {},
   "outputs": [
    {
     "data": {
      "text/plain": [
       "<matplotlib.image.AxesImage at 0x25a790549a0>"
      ]
     },
     "execution_count": 2,
     "metadata": {},
     "output_type": "execute_result"
    },
    {
     "data": {
      "image/png": "[encoded data removed]",
      "text/plain": [
       "<Figure size 432x288 with 1 Axes>"
      ]
     },
     "metadata": {
      "needs_background": "light"
     },
     "output_type": "display_data"
    }
   ],
   "source": [
    "import cv2\n",
    "import numpy as np\n",
    "from matplotlib import pyplot as plt\n",
    "\n",
    "img=cv2.imread(r\"C:\\Users\\asannidhi\\Desktop\\imagelight_2.png\")\n",
    "mask = np.zeros(img.shape[:2], dtype=\"uint8\")\n",
    "cv2.circle(mask, ( 392, 281), 24, 255, -1)\n",
    "masked = cv2.bitwise_and(img, img, mask=mask)\n",
    "blurimg = cv2.GaussianBlur(masked,(5,5), 1)\n",
    "imageGray = cv2.cvtColor(blurimg, cv2.COLOR_RGB2GRAY)\n",
    "plt.imshow(imageGray)"
   ]
  },
  {
   "cell_type": "code",
   "execution_count": null,
   "id": "4edd70b5",
   "metadata": {},
   "outputs": [],
   "source": []
  }
 ],
 "metadata": {
  "kernelspec": {
   "display_name": "Python 3 (ipykernel)",
   "language": "python",
   "name": "python3"
  },
  "language_info": {
   "codemirror_mode": {
    "name": "ipython",
    "version": 3
   },
   "file_extension": ".py",
   "mimetype": "text/x-python",
   "name": "python",
   "nbconvert_exporter": "python",
   "pygments_lexer": "ipython3",
   "version": "3.9.12"
  }
 },
 "nbformat": 4,
 "nbformat_minor": 5
}
