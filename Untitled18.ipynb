{
 "cells": [
  {
   "cell_type": "code",
   "execution_count": 2,
   "id": "f6ebfcf5",
   "metadata": {},
   "outputs": [
    {
     "name": "stdout",
     "output_type": "stream",
     "text": [
      "Requirement already satisfied: detecto in d:\\anaconda3\\lib\\site-packages (1.2.2)\n",
      "Requirement already satisfied: pandas in d:\\anaconda3\\lib\\site-packages (from detecto) (1.4.2)\n",
      "Requirement already satisfied: torch in d:\\anaconda3\\lib\\site-packages (from detecto) (1.11.0)\n",
      "Requirement already satisfied: tqdm in d:\\anaconda3\\lib\\site-packages (from detecto) (4.64.0)\n",
      "Requirement already satisfied: opencv-python in d:\\anaconda3\\lib\\site-packages (from detecto) (4.5.5.64)\n",
      "Requirement already satisfied: matplotlib in d:\\anaconda3\\lib\\site-packages (from detecto) (3.5.1)\n",
      "Requirement already satisfied: torchvision in d:\\anaconda3\\lib\\site-packages (from detecto) (0.12.0)\n",
      "Requirement already satisfied: pyparsing>=2.2.1 in d:\\anaconda3\\lib\\site-packages (from matplotlib->detecto) (3.0.4)\n",
      "Requirement already satisfied: fonttools>=4.22.0 in d:\\anaconda3\\lib\\site-packages (from matplotlib->detecto) (4.25.0)\n",
      "Requirement already satisfied: pillow>=6.2.0 in d:\\anaconda3\\lib\\site-packages (from matplotlib->detecto) (9.0.1)\n",
      "Requirement already satisfied: cycler>=0.10 in d:\\anaconda3\\lib\\site-packages (from matplotlib->detecto) (0.11.0)\n",
      "Requirement already satisfied: numpy>=1.17 in d:\\anaconda3\\lib\\site-packages (from matplotlib->detecto) (1.21.5)\n",
      "Requirement already satisfied: packaging>=20.0 in d:\\anaconda3\\lib\\site-packages (from matplotlib->detecto) (21.3)\n",
      "Requirement already satisfied: python-dateutil>=2.7 in d:\\anaconda3\\lib\\site-packages (from matplotlib->detecto) (2.8.2)\n",
      "Requirement already satisfied: kiwisolver>=1.0.1 in d:\\anaconda3\\lib\\site-packages (from matplotlib->detecto) (1.3.2)\n",
      "Requirement already satisfied: six>=1.5 in d:\\anaconda3\\lib\\site-packages (from python-dateutil>=2.7->matplotlib->detecto) (1.16.0)\n",
      "Requirement already satisfied: pytz>=2020.1 in d:\\anaconda3\\lib\\site-packages (from pandas->detecto) (2021.3)\n",
      "Requirement already satisfied: typing-extensions in d:\\anaconda3\\lib\\site-packages (from torch->detecto) (4.1.1)\n",
      "Requirement already satisfied: requests in d:\\anaconda3\\lib\\site-packages (from torchvision->detecto) (2.27.1)\n",
      "Requirement already satisfied: certifi>=2017.4.17 in d:\\anaconda3\\lib\\site-packages (from requests->torchvision->detecto) (2021.10.8)\n",
      "Requirement already satisfied: urllib3<1.27,>=1.21.1 in d:\\anaconda3\\lib\\site-packages (from requests->torchvision->detecto) (1.26.9)\n",
      "Requirement already satisfied: idna<4,>=2.5 in d:\\anaconda3\\lib\\site-packages (from requests->torchvision->detecto) (3.3)\n",
      "Requirement already satisfied: charset-normalizer~=2.0.0 in d:\\anaconda3\\lib\\site-packages (from requests->torchvision->detecto) (2.0.4)\n",
      "Requirement already satisfied: colorama in d:\\anaconda3\\lib\\site-packages (from tqdm->detecto) (0.4.4)\n"
     ]
    }
   ],
   "source": [
    "!pip install detecto"
   ]
  },
  {
   "cell_type": "code",
   "execution_count": 1,
   "id": "3fe79889",
   "metadata": {},
   "outputs": [],
   "source": [
    "from detecto.core import Model\n",
    "from detecto.utils import read_image\n",
    "from detecto.visualize import show_labeled_image"
   ]
  },
  {
   "cell_type": "code",
   "execution_count": 2,
   "id": "40155305",
   "metadata": {},
   "outputs": [],
   "source": [
    "model = Model.load(r'C:\\Users\\asannidhi\\Downloads\\model_weights.pth', ['LH', 'Svartpilen ','Print OK', 'Smudge'])"
   ]
  },
  {
   "cell_type": "code",
   "execution_count": 5,
   "id": "f5d03a41",
   "metadata": {},
   "outputs": [],
   "source": [
    "image = read_image('07.jpg_masked.jpg')"
   ]
  },
  {
   "cell_type": "code",
   "execution_count": null,
   "id": "2103e3fb",
   "metadata": {},
   "outputs": [],
   "source": [
    "labels, boxes, scores = model.predict(image)\n",
    "show_labeled_image(image, boxes, labels)"
   ]
  },
  {
   "cell_type": "code",
   "execution_count": null,
   "id": "4ed05880",
   "metadata": {},
   "outputs": [],
   "source": []
  }
 ],
 "metadata": {
  "kernelspec": {
   "display_name": "Python 3 (ipykernel)",
   "language": "python",
   "name": "python3"
  },
  "language_info": {
   "codemirror_mode": {
    "name": "ipython",
    "version": 3
   },
   "file_extension": ".py",
   "mimetype": "text/x-python",
   "name": "python",
   "nbconvert_exporter": "python",
   "pygments_lexer": "ipython3",
   "version": "3.9.12"
  }
 },
 "nbformat": 4,
 "nbformat_minor": 5
}
