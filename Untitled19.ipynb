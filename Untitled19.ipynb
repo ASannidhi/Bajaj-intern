{
 "cells": [
  {
   "cell_type": "code",
   "execution_count": null,
   "id": "0a3f4ada",
   "metadata": {},
   "outputs": [],
   "source": [
    "from detecto.core import Model\n",
    "from detecto.utils import read_image\n",
    "from detecto.visualize import show_labeled_image\n",
    "\n",
    "model = Model.load(r'C:\\Users\\asannidhi\\Downloads\\model_weights.pth', ['LH', 'Svartpilen ','Print OK', 'Smudge'])\n",
    "image = read_image('07.jpg_masked.jpg')\n",
    "labels, boxes, scores = model.predict(image)\n",
    "show_labeled_image(image, boxes, labels)"
   ]
  },
  {
   "cell_type": "code",
   "execution_count": null,
   "id": "99640b55",
   "metadata": {},
   "outputs": [],
   "source": []
  }
 ],
 "metadata": {
  "kernelspec": {
   "display_name": "Python 3 (ipykernel)",
   "language": "python",
   "name": "python3"
  },
  "language_info": {
   "codemirror_mode": {
    "name": "ipython",
    "version": 3
   },
   "file_extension": ".py",
   "mimetype": "text/x-python",
   "name": "python",
   "nbconvert_exporter": "python",
   "pygments_lexer": "ipython3",
   "version": "3.9.12"
  }
 },
 "nbformat": 4,
 "nbformat_minor": 5
}
