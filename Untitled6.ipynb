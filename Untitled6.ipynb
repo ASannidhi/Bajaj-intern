{
 "cells": [
  {
   "cell_type": "code",
   "execution_count": 1,
   "id": "f840fc6c",
   "metadata": {},
   "outputs": [
    {
     "name": "stdout",
     "output_type": "stream",
     "text": [
      "(269, 188, 88, 90)\n",
      "(443, 267, 0, 0)\n"
     ]
    },
    {
     "ename": "error",
     "evalue": "OpenCV(4.5.5) D:\\a\\opencv-python\\opencv-python\\opencv\\modules\\imgproc\\src\\color.cpp:182: error: (-215:Assertion failed) !_src.empty() in function 'cv::cvtColor'\n",
     "output_type": "error",
     "traceback": [
      "\u001b[1;31m---------------------------------------------------------------------------\u001b[0m",
      "\u001b[1;31merror\u001b[0m                                     Traceback (most recent call last)",
      "Input \u001b[1;32mIn [1]\u001b[0m, in \u001b[0;36m<cell line: 9>\u001b[1;34m()\u001b[0m\n\u001b[0;32m     29\u001b[0m \u001b[38;5;28mprint\u001b[39m(roi)\n\u001b[0;32m     30\u001b[0m roi_cropped \u001b[38;5;241m=\u001b[39m img_raw[\u001b[38;5;28mint\u001b[39m(roi[\u001b[38;5;241m1\u001b[39m]):\u001b[38;5;28mint\u001b[39m(roi[\u001b[38;5;241m1\u001b[39m]\u001b[38;5;241m+\u001b[39mroi[\u001b[38;5;241m3\u001b[39m]),\u001b[38;5;28mint\u001b[39m(roi[\u001b[38;5;241m0\u001b[39m]):\u001b[38;5;28mint\u001b[39m(roi[\u001b[38;5;241m0\u001b[39m]\u001b[38;5;241m+\u001b[39mroi[\u001b[38;5;241m2\u001b[39m])]\n\u001b[1;32m---> 31\u001b[0m \u001b[43mcv\u001b[49m\u001b[38;5;241;43m.\u001b[39;49m\u001b[43mimshow\u001b[49m\u001b[43m(\u001b[49m\u001b[38;5;124;43m\"\u001b[39;49m\u001b[38;5;124;43mROI\u001b[39;49m\u001b[38;5;124;43m\"\u001b[39;49m\u001b[43m,\u001b[49m\u001b[43mroi_cropped\u001b[49m\u001b[43m)\u001b[49m\n\u001b[0;32m     32\u001b[0m cv\u001b[38;5;241m.\u001b[39mimwrite(\u001b[38;5;124m\"\u001b[39m\u001b[38;5;124mcrop.png\u001b[39m\u001b[38;5;124m\"\u001b[39m,roi_cropped) \n\u001b[0;32m     34\u001b[0m img\u001b[38;5;241m=\u001b[39mroi_cropped\u001b[38;5;241m.\u001b[39mcopy()\n",
      "\u001b[1;31merror\u001b[0m: OpenCV(4.5.5) D:\\a\\opencv-python\\opencv-python\\opencv\\modules\\imgproc\\src\\color.cpp:182: error: (-215:Assertion failed) !_src.empty() in function 'cv::cvtColor'\n"
     ]
    }
   ],
   "source": [
    "import cv2 as cv\n",
    "import numpy as np\n",
    "from matplotlib import pyplot as plt\n",
    "\n",
    "videocapture = cv.VideoCapture(0)\n",
    "cv.namedWindow(\"test\")\n",
    "img_counter = 0\n",
    "while(True):\n",
    "    ret, frame = videocapture.read()\n",
    "    if not ret: break\n",
    "    cv.imshow(\"test\",frame)\n",
    "    #img=frame.copy()\n",
    "    k = cv.waitKey(1)\n",
    "    if k%256 == 27:\n",
    "        # ESC pressed\n",
    "        print(\"Escape hit, closing...\")\n",
    "        break\n",
    "    elif k%256 == 32:\n",
    "        # SPACE pressed\n",
    "        img_name = \"opencv_frame_{}.png\".format(img_counter)\n",
    "        cv.imwrite(img_name, frame)\n",
    "        print(\"{} written!\".format(img_name))\n",
    "        img_counter += 1\n",
    "   \n",
    "\n",
    "    img_path = \"opencv_frame_{}.png\".format(img_counter)\n",
    "    img_raw = cv.imread(img_path)\n",
    "    roi=cv.selectROI(img_raw)\n",
    "    print(roi)\n",
    "    roi_cropped = img_raw[int(roi[1]):int(roi[1]+roi[3]),int(roi[0]):int(roi[0]+roi[2])]\n",
    "    cv.imshow(\"ROI\",roi_cropped)\n",
    "    cv.imwrite(\"crop.png\",roi_cropped) \n",
    "    \n",
    "    img=roi_cropped.copy()\n",
    "    gray = cv.cvtColor(img, cv.COLOR_BGR2GRAY)\n",
    "    blur = cv.GaussianBlur(gray, (9,9),0)\n",
    "    minDist = 75\n",
    "    param1 = 100 #500\n",
    "    param2 = 50 #200 \n",
    "    minRadius = 10\n",
    "    maxRadius = 100 #10\n",
    "    \n",
    "    circles = cv.HoughCircles(blur, cv.HOUGH_GRADIENT, 1.2, minDist, param1=param1, param2=param2, minRadius=minRadius, maxRadius=maxRadius)\n",
    "    if circles is not None:\n",
    "        circles = np.uint16(np.around(circles))\n",
    "        #count=1\n",
    "        for i in circles[0,:]:\n",
    "            r_mm=np.round(i[2]*0.2645833 , 2)\n",
    "            #print('r'+str(i)+' '+str(r_mm))\n",
    "            cv.circle(img, (i[0], i[1]), i[2], (0, 255, 0), 2) \n",
    "            cv.circle(img, (i[0], i[1]), 2, (0,0,255), 2 ) \n",
    "            cv.putText(img, str(r_mm),(i[0]-15, i[1]-5), cv.FONT_HERSHEY_COMPLEX_SMALL, 0.7, (255,0,0), 1)\n",
    "           # print('r' + str(count)+ ' ' +str(r_mm))\n",
    "           # count+=1\n",
    "    cv.imshow('img',img)\n",
    "   \n",
    "    \n",
    "          \n",
    "videocapture.release()\n",
    "cv.destroyAllWindows()      "
   ]
  },
  {
   "cell_type": "code",
   "execution_count": null,
   "id": "e4e9a4d7",
   "metadata": {},
   "outputs": [],
   "source": []
  }
 ],
 "metadata": {
  "kernelspec": {
   "display_name": "Python 3 (ipykernel)",
   "language": "python",
   "name": "python3"
  },
  "language_info": {
   "codemirror_mode": {
    "name": "ipython",
    "version": 3
   },
   "file_extension": ".py",
   "mimetype": "text/x-python",
   "name": "python",
   "nbconvert_exporter": "python",
   "pygments_lexer": "ipython3",
   "version": "3.9.12"
  }
 },
 "nbformat": 4,
 "nbformat_minor": 5
}
