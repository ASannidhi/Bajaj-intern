{
 "cells": [
  {
   "cell_type": "code",
   "execution_count": 3,
   "id": "3c511842",
   "metadata": {},
   "outputs": [],
   "source": [
    "import turtle\n",
    "from matplotlib import pyplot as plt"
   ]
  },
  {
   "cell_type": "code",
   "execution_count": 4,
   "id": "9c120488",
   "metadata": {},
   "outputs": [],
   "source": [
    "t = turtle.Turtle()\n",
    "def draw_rectangle(length, height):\n",
    "    for i in range(0,4):\n",
    "        if i % 2 == 0: \n",
    "            t.forward(length)\n",
    "            t.right(90)\n",
    "        else: \n",
    "            t.forward(height)\n",
    "            t.right(90)"
   ]
  },
  {
   "cell_type": "code",
   "execution_count": 5,
   "id": "24af6592",
   "metadata": {},
   "outputs": [
    {
     "ename": "AttributeError",
     "evalue": "module 'matplotlib.pyplot' has no attribute 'draw_rectangle'",
     "output_type": "error",
     "traceback": [
      "\u001b[1;31m---------------------------------------------------------------------------\u001b[0m",
      "\u001b[1;31mAttributeError\u001b[0m                            Traceback (most recent call last)",
      "Input \u001b[1;32mIn [5]\u001b[0m, in \u001b[0;36m<cell line: 1>\u001b[1;34m()\u001b[0m\n\u001b[1;32m----> 1\u001b[0m fig1\u001b[38;5;241m=\u001b[39m\u001b[43mplt\u001b[49m\u001b[38;5;241;43m.\u001b[39;49m\u001b[43mdraw_rectangle\u001b[49m(\u001b[38;5;241m100\u001b[39m,\u001b[38;5;241m200\u001b[39m)\n\u001b[0;32m      2\u001b[0m fig2\u001b[38;5;241m=\u001b[39mplt\u001b[38;5;241m.\u001b[39mdraw_rectangle(\u001b[38;5;241m50\u001b[39m,\u001b[38;5;241m100\u001b[39m)\n",
      "\u001b[1;31mAttributeError\u001b[0m: module 'matplotlib.pyplot' has no attribute 'draw_rectangle'"
     ]
    }
   ],
   "source": [
    "fig1=plt.draw_rectangle(100,200)\n",
    "fig2=plt.draw_rectangle(50,100)\n",
    "#plt.subplot(121),plt.imshow(res,cmap = 'gray')\n",
    "#plt.title('Matching Result'), plt.xticks([]), plt.yticks([])\n",
    "#plt.subplot(122),plt.imshow(img,cmap = 'gray')"
   ]
  },
  {
   "cell_type": "code",
   "execution_count": 1,
   "id": "afd1e580",
   "metadata": {},
   "outputs": [
    {
     "ename": "SyntaxError",
     "evalue": "invalid syntax (1349239664.py, line 1)",
     "output_type": "error",
     "traceback": [
      "\u001b[1;36m  Input \u001b[1;32mIn [1]\u001b[1;36m\u001b[0m\n\u001b[1;33m    if fig2 is in fig1:\u001b[0m\n\u001b[1;37m               ^\u001b[0m\n\u001b[1;31mSyntaxError\u001b[0m\u001b[1;31m:\u001b[0m invalid syntax\n"
     ]
    }
   ],
   "source": [
    "if fig2 in fig1:\n",
    "    print('True')"
   ]
  },
  {
   "cell_type": "code",
   "execution_count": null,
   "id": "e6a0c917",
   "metadata": {},
   "outputs": [],
   "source": []
  }
 ],
 "metadata": {
  "kernelspec": {
   "display_name": "Python 3 (ipykernel)",
   "language": "python",
   "name": "python3"
  },
  "language_info": {
   "codemirror_mode": {
    "name": "ipython",
    "version": 3
   },
   "file_extension": ".py",
   "mimetype": "text/x-python",
   "name": "python",
   "nbconvert_exporter": "python",
   "pygments_lexer": "ipython3",
   "version": "3.9.12"
  }
 },
 "nbformat": 4,
 "nbformat_minor": 5
}
