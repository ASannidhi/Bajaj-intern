{
 "cells": [
  {
   "cell_type": "code",
   "execution_count": null,
   "id": "1e351c89",
   "metadata": {},
   "outputs": [],
   "source": [
    "import cv2 as cv\n",
    "import numpy as np\n",
    "from matplotlib import pyplot as plt\n",
    "\n",
    "#img_path=\"opencv_frame_0.png\"\n",
    "#img = cv.imread(img_path)\n",
    "#plt.imshow(img)\n",
    "videocapture = cv.VideoCapture(0)\n",
    "plt.ion()\n",
    "while(True):\n",
    "    ret, frame = videocapture.read()\n",
    "    if not ret: break\n",
    "    plt.imshow(frame)\n",
    "    #if cv.waitKey(1) & 0xFF == ord('q'): break\n",
    "\n",
    "#plt.ioff()    \n",
    "#videocapture.release()\n",
    "#cv.destroyAllWindows()"
   ]
  },
  {
   "cell_type": "code",
   "execution_count": null,
   "id": "5a812472",
   "metadata": {},
   "outputs": [],
   "source": []
  }
 ],
 "metadata": {
  "kernelspec": {
   "display_name": "Python 3 (ipykernel)",
   "language": "python",
   "name": "python3"
  },
  "language_info": {
   "codemirror_mode": {
    "name": "ipython",
    "version": 3
   },
   "file_extension": ".py",
   "mimetype": "text/x-python",
   "name": "python",
   "nbconvert_exporter": "python",
   "pygments_lexer": "ipython3",
   "version": "3.9.12"
  }
 },
 "nbformat": 4,
 "nbformat_minor": 5
}
