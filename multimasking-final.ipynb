{
 "cells": [
  {
   "cell_type": "code",
   "execution_count": 9,
   "id": "80eb50b1",
   "metadata": {},
   "outputs": [],
   "source": [
    "import cv2 as cv\n",
    "import os\n",
    "\n",
    "img_path = r\"C:\\Users\\asannidhi\\Desktop\\train_data\\images\\val\"\n",
    "img_path2=r\"C:\\Users\\asannidhi\\Downloads\\mask.png\"\n",
    "od = cv.imread(img_path2)\n",
    "for img in os.listdir(img_path):\n",
    "    #image = cv.imread(img_path+\"\\\\\"+img, cv.IMREAD_GRAYSCALE)\n",
    "    image = cv.imread(img_path+\"\\\\\"+img)\n",
    "    bitwiseAnd = cv.bitwise_or(image, od)\n",
    "    #maskedimg = cv.cvtColor(bitwiseAnd, cv.COLOR_GRAY2RGB)\n",
    "    #res =  cv.bitwise_and(image,image,mask = od)\n",
    "    \n",
    "    #cv.imwrite( r\"C:\\Users\\asannidhi\\Desktop\\train_data_3\\images\\train\" + img+ \"_masked.jpg\", maskedimg)\n",
    "    cv.imwrite( r\"C:\\Users\\asannidhi\\Desktop\\train_data_lh\\images\\val\\0\" + img+ \"_masked.jpg\", bitwiseAnd)"
   ]
  },
  {
   "cell_type": "code",
   "execution_count": null,
   "id": "f97f2760",
   "metadata": {},
   "outputs": [],
   "source": []
  }
 ],
 "metadata": {
  "kernelspec": {
   "display_name": "Python 3 (ipykernel)",
   "language": "python",
   "name": "python3"
  },
  "language_info": {
   "codemirror_mode": {
    "name": "ipython",
    "version": 3
   },
   "file_extension": ".py",
   "mimetype": "text/x-python",
   "name": "python",
   "nbconvert_exporter": "python",
   "pygments_lexer": "ipython3",
   "version": "3.9.12"
  }
 },
 "nbformat": 4,
 "nbformat_minor": 5
}
